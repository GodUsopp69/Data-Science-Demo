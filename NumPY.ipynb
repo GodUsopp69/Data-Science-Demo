{
 "cells": [
  {
   "cell_type": "code",
   "execution_count": 1,
   "id": "218cb7c9-57d7-465b-8af5-501178a005fb",
   "metadata": {},
   "outputs": [],
   "source": [
    "import numpy as np"
   ]
  },
  {
   "cell_type": "code",
   "execution_count": 2,
   "id": "c1c0bf71-f329-433f-b456-8ed72f24f0b9",
   "metadata": {},
   "outputs": [
    {
     "name": "stdout",
     "output_type": "stream",
     "text": [
      "<class 'numpy.ndarray'>\n",
      "[1 2 3 4]\n"
     ]
    }
   ],
   "source": [
    "arr  = np.array([1,2,3,4])\n",
    "print(type(arr))  #end dimentional array\n",
    "print (arr)"
   ]
  },
  {
   "cell_type": "code",
   "execution_count": 3,
   "id": "24b93d70-590f-4e7a-9411-1283f564c72d",
   "metadata": {},
   "outputs": [
    {
     "name": "stdout",
     "output_type": "stream",
     "text": [
      "[[[ 1  2  3  4]\n",
      "  [ 7  8  9 74]]\n",
      "\n",
      " [[ 1  2  3  4]\n",
      "  [ 7  8  9 74]]]\n"
     ]
    }
   ],
   "source": [
    "mul_arr = np.array([[[1,2,3,4],[7,8,9,74]],[[1,2,3,4],[7,8,9,74]]])\n",
    "print(mul_arr)"
   ]
  },
  {
   "cell_type": "code",
   "execution_count": 4,
   "id": "bdf28a76-ed47-4d3c-946e-d7d495e6f07b",
   "metadata": {},
   "outputs": [
    {
     "name": "stdout",
     "output_type": "stream",
     "text": [
      "['1' '2' '3' '4' 'KO']\n"
     ]
    }
   ],
   "source": [
    "li = [1,2,3,4,\"KO\"]\n",
    "liarr = np.array(li)\n",
    "print(liarr)"
   ]
  },
  {
   "cell_type": "code",
   "execution_count": 5,
   "id": "4a219db4-22c6-4b2e-ac88-06f7f36acd24",
   "metadata": {},
   "outputs": [
    {
     "data": {
      "text/plain": [
       "array([5.        , 5.33333333, 5.66666667, 6.        , 6.33333333,\n",
       "       6.66666667, 7.        ])"
      ]
     },
     "execution_count": 5,
     "metadata": {},
     "output_type": "execute_result"
    }
   ],
   "source": [
    "np.linspace(5,7,7) #first one is upper-bound and 2nd one is lower bound and third one is how many you value needed"
   ]
  },
  {
   "cell_type": "code",
   "execution_count": 6,
   "id": "74b42f77-64c9-4fd3-9a97-dac3e82715ac",
   "metadata": {},
   "outputs": [
    {
     "data": {
      "text/plain": [
       "array([ 5,  7,  9, 11, 13, 15, 17, 19])"
      ]
     },
     "execution_count": 6,
     "metadata": {},
     "output_type": "execute_result"
    }
   ],
   "source": [
    "np.arange (5,20,2) #third one is the gap"
   ]
  },
  {
   "cell_type": "code",
   "execution_count": 7,
   "id": "9eb13715-a4ec-4258-968a-7557d50c4dc3",
   "metadata": {},
   "outputs": [
    {
     "data": {
      "text/plain": [
       "array([5.18176807, 9.76358597, 7.84868038, 7.72645103, 8.39097194])"
      ]
     },
     "execution_count": 7,
     "metadata": {},
     "output_type": "execute_result"
    }
   ],
   "source": [
    "np.random.uniform(5,10, size = 5)"
   ]
  },
  {
   "cell_type": "code",
   "execution_count": 8,
   "id": "d5b83537-1f1e-4848-8dbf-bb8fd40161bd",
   "metadata": {},
   "outputs": [
    {
     "data": {
      "text/plain": [
       "array([[6.24038131, 8.29197725, 9.98869216],\n",
       "       [6.51081571, 9.32845804, 8.22428405],\n",
       "       [5.32214538, 6.68835012, 5.65409695],\n",
       "       [6.43304376, 6.63581559, 5.83865316],\n",
       "       [9.83671981, 7.47846961, 7.05047293]])"
      ]
     },
     "execution_count": 8,
     "metadata": {},
     "output_type": "execute_result"
    }
   ],
   "source": [
    "np.random.uniform(5,10, size = (5,3))"
   ]
  },
  {
   "cell_type": "code",
   "execution_count": 9,
   "id": "dd9d0adc-b4d0-4a94-9766-64681c552095",
   "metadata": {},
   "outputs": [
    {
     "data": {
      "text/plain": [
       "array([3.20000000e+01, 1.41323458e+02, 6.24134991e+02, 2.75640359e+03,\n",
       "       1.21732652e+04, 5.37614979e+04, 2.37430024e+05, 1.04857600e+06])"
      ]
     },
     "execution_count": 9,
     "metadata": {},
     "output_type": "execute_result"
    }
   ],
   "source": [
    "np.logspace(5,20,8, base=2)"
   ]
  },
  {
   "cell_type": "code",
   "execution_count": 10,
   "id": "ba5e969a-0309-4322-b597-db268dd213a2",
   "metadata": {},
   "outputs": [
    {
     "data": {
      "text/plain": [
       "array([[0, 0, 0],\n",
       "       [0, 0, 0]])"
      ]
     },
     "execution_count": 10,
     "metadata": {},
     "output_type": "execute_result"
    }
   ],
   "source": [
    "np.zeros((2,3), dtype='int')"
   ]
  },
  {
   "cell_type": "code",
   "execution_count": 11,
   "id": "757a4095-f197-4a87-a652-0085ac0ead53",
   "metadata": {},
   "outputs": [
    {
     "data": {
      "text/plain": [
       "array([[1, 1, 1],\n",
       "       [1, 1, 1]])"
      ]
     },
     "execution_count": 11,
     "metadata": {},
     "output_type": "execute_result"
    }
   ],
   "source": [
    "np.ones((2,3), dtype='int')"
   ]
  },
  {
   "cell_type": "code",
   "execution_count": 12,
   "id": "5059a801-0e31-42d4-a58e-c79fe801116f",
   "metadata": {},
   "outputs": [
    {
     "data": {
      "text/plain": [
       "array([[3, 3, 3],\n",
       "       [3, 3, 3]])"
      ]
     },
     "execution_count": 12,
     "metadata": {},
     "output_type": "execute_result"
    }
   ],
   "source": [
    "np.full((2,3), fill_value=3)"
   ]
  },
  {
   "cell_type": "code",
   "execution_count": 13,
   "id": "d9211863-9dbc-49fe-a4d4-42aa18db8b8f",
   "metadata": {},
   "outputs": [
    {
     "data": {
      "text/plain": [
       "array([[1., 0., 0.],\n",
       "       [0., 1., 0.],\n",
       "       [0., 0., 1.]])"
      ]
     },
     "execution_count": 13,
     "metadata": {},
     "output_type": "execute_result"
    }
   ],
   "source": [
    "np.identity(3)"
   ]
  },
  {
   "cell_type": "code",
   "execution_count": 53,
   "id": "b9ecf380-7b6a-472d-afab-6586f3fa479a",
   "metadata": {},
   "outputs": [
    {
     "name": "stdout",
     "output_type": "stream",
     "text": [
      "[  1   2   2   3   4   5   6   6  96 -96]\n"
     ]
    }
   ],
   "source": [
    "lit = [1,2,2,3,4,5,6,6,96,-96]\n",
    "arr1 = np.array(lit)\n",
    "print(arr1)"
   ]
  },
  {
   "cell_type": "code",
   "execution_count": 15,
   "id": "298f47a4-12c3-45c4-bd81-b24a0aaa1165",
   "metadata": {},
   "outputs": [
    {
     "data": {
      "text/plain": [
       "1"
      ]
     },
     "execution_count": 15,
     "metadata": {},
     "output_type": "execute_result"
    }
   ],
   "source": [
    "np.min(arr1)"
   ]
  },
  {
   "cell_type": "code",
   "execution_count": 16,
   "id": "9305d116-15be-4704-933d-b8fa6d18bf65",
   "metadata": {},
   "outputs": [
    {
     "data": {
      "text/plain": [
       "96"
      ]
     },
     "execution_count": 16,
     "metadata": {},
     "output_type": "execute_result"
    }
   ],
   "source": [
    "np.max(arr1)"
   ]
  },
  {
   "cell_type": "code",
   "execution_count": 17,
   "id": "5e2bc081-8c12-4b83-b16f-e40ebb7f7493",
   "metadata": {},
   "outputs": [
    {
     "data": {
      "text/plain": [
       "(array([ 1,  2,  3,  4,  5,  6, 96]),\n",
       " array([1, 2, 1, 1, 1, 2, 2], dtype=int64))"
      ]
     },
     "execution_count": 17,
     "metadata": {},
     "output_type": "execute_result"
    }
   ],
   "source": [
    "np.unique(arr1, return_counts = True)"
   ]
  },
  {
   "cell_type": "code",
   "execution_count": 19,
   "id": "940f8655-a8c6-442f-80ed-adfa1bdfdf92",
   "metadata": {},
   "outputs": [
    {
     "data": {
      "text/plain": [
       "22"
      ]
     },
     "execution_count": 19,
     "metadata": {},
     "output_type": "execute_result"
    }
   ],
   "source": [
    "np.mean(arr1 , dtype='int')"
   ]
  },
  {
   "cell_type": "code",
   "execution_count": 20,
   "id": "91b312e2-9c6b-4b6f-b018-49cc7260dd0c",
   "metadata": {},
   "outputs": [
    {
     "data": {
      "text/plain": [
       "4.5"
      ]
     },
     "execution_count": 20,
     "metadata": {},
     "output_type": "execute_result"
    }
   ],
   "source": [
    "np.median(arr1)"
   ]
  },
  {
   "cell_type": "code",
   "execution_count": 21,
   "id": "e8055556-f487-470d-99ee-84c8f7a59b73",
   "metadata": {},
   "outputs": [
    {
     "data": {
      "text/plain": [
       "array([1, 1, 3, 2], dtype=int64)"
      ]
     },
     "execution_count": 21,
     "metadata": {},
     "output_type": "execute_result"
    }
   ],
   "source": [
    "list2 = [0.1,0.3,2.5,1.9]\n",
    "arr2 = np.array(list2)\n",
    "bins = np.array([0,1,2,3,4,5,6,7])\n",
    "np.digitize(arr2,bins)"
   ]
  },
  {
   "cell_type": "code",
   "execution_count": 24,
   "id": "44c1ce0e-75e3-4a06-af71-93747dd601e2",
   "metadata": {},
   "outputs": [
    {
     "name": "stdout",
     "output_type": "stream",
     "text": [
      "[[12  5  9]\n",
      " [ 2  5  7]\n",
      " [ 3  3  0]\n",
      " [ 0  5  6]]\n"
     ]
    }
   ],
   "source": [
    "df = np.random.randint(14,size =(4,3))\n",
    "print(df)"
   ]
  },
  {
   "cell_type": "code",
   "execution_count": 25,
   "id": "0efbe1fe-bfc3-4cc3-929a-63c42dca9b08",
   "metadata": {},
   "outputs": [
    {
     "data": {
      "text/plain": [
       "array([[12,  5,  9,  2],\n",
       "       [ 5,  7,  3,  3],\n",
       "       [ 0,  0,  5,  6]])"
      ]
     },
     "execution_count": 25,
     "metadata": {},
     "output_type": "execute_result"
    }
   ],
   "source": [
    "df.reshape(3,4)"
   ]
  },
  {
   "cell_type": "code",
   "execution_count": 40,
   "id": "30984493-7550-4fdf-95a6-e4739d0ef70b",
   "metadata": {},
   "outputs": [
    {
     "name": "stdout",
     "output_type": "stream",
     "text": [
      "[12  5  9  2  5  7  3  3  0  0  5  6]\n"
     ]
    }
   ],
   "source": [
    " cd =df.reshape(-1)\n",
    "print(cd)"
   ]
  },
  {
   "cell_type": "code",
   "execution_count": 34,
   "id": "7a88d255-e2b9-4cfc-b0b7-6912fe841c44",
   "metadata": {},
   "outputs": [
    {
     "data": {
      "text/plain": [
       "array([[12,  5,  9,  2,  5,  7,  3,  3,  0,  0,  5,  6]])"
      ]
     },
     "execution_count": 34,
     "metadata": {},
     "output_type": "execute_result"
    }
   ],
   "source": [
    "np.expand_dims(cd,axis=0)"
   ]
  },
  {
   "cell_type": "code",
   "execution_count": 36,
   "id": "bbd3553b-c73f-4353-8f3f-d5ebebc92278",
   "metadata": {},
   "outputs": [
    {
     "data": {
      "text/plain": [
       "array([[12],\n",
       "       [ 5],\n",
       "       [ 9],\n",
       "       [ 2],\n",
       "       [ 5],\n",
       "       [ 7],\n",
       "       [ 3],\n",
       "       [ 3],\n",
       "       [ 0],\n",
       "       [ 0],\n",
       "       [ 5],\n",
       "       [ 6]])"
      ]
     },
     "execution_count": 36,
     "metadata": {},
     "output_type": "execute_result"
    }
   ],
   "source": [
    "np.expand_dims(cd,axis=1)"
   ]
  },
  {
   "cell_type": "code",
   "execution_count": 47,
   "id": "d10e9a34-302a-402f-8022-c4f9cda1a66d",
   "metadata": {},
   "outputs": [],
   "source": [
    "mul_arr1 = np.array([[[1],[3]],[[8],[5]]])\n",
    "\n"
   ]
  },
  {
   "cell_type": "code",
   "execution_count": 48,
   "id": "a73af266-5882-452a-b23f-b3c84829ba45",
   "metadata": {},
   "outputs": [],
   "source": [
    "squeeze = np.squeeze(mul_arr1)"
   ]
  },
  {
   "cell_type": "code",
   "execution_count": 49,
   "id": "0a1e0057-b92b-415c-ad1f-a7db1aaa5f5a",
   "metadata": {},
   "outputs": [
    {
     "name": "stdout",
     "output_type": "stream",
     "text": [
      "[[1 3]\n",
      " [8 5]]\n"
     ]
    }
   ],
   "source": [
    "print (squeeze)"
   ]
  },
  {
   "cell_type": "code",
   "execution_count": 50,
   "id": "ce849b3f-64e9-4052-a96a-85e4303ccb96",
   "metadata": {},
   "outputs": [
    {
     "data": {
      "text/plain": [
       "8"
      ]
     },
     "execution_count": 50,
     "metadata": {},
     "output_type": "execute_result"
    }
   ],
   "source": [
    "np.argmax(arr1)"
   ]
  },
  {
   "cell_type": "code",
   "execution_count": 51,
   "id": "64ba7979-b1f4-47e0-ad4b-d44168916fac",
   "metadata": {},
   "outputs": [
    {
     "data": {
      "text/plain": [
       "0"
      ]
     },
     "execution_count": 51,
     "metadata": {},
     "output_type": "execute_result"
    }
   ],
   "source": [
    "np.argmin(arr1)"
   ]
  },
  {
   "cell_type": "code",
   "execution_count": 54,
   "id": "82acdeaa-40b3-4b7d-9fa2-a730eed2bb0a",
   "metadata": {},
   "outputs": [
    {
     "data": {
      "text/plain": [
       "array([ 1,  2,  2,  3,  4,  5,  6,  6, 96, 96])"
      ]
     },
     "execution_count": 54,
     "metadata": {},
     "output_type": "execute_result"
    }
   ],
   "source": [
    "np.abs(arr1)"
   ]
  }
 ],
 "metadata": {
  "kernelspec": {
   "display_name": "Python 3 (ipykernel)",
   "language": "python",
   "name": "python3"
  },
  "language_info": {
   "codemirror_mode": {
    "name": "ipython",
    "version": 3
   },
   "file_extension": ".py",
   "mimetype": "text/x-python",
   "name": "python",
   "nbconvert_exporter": "python",
   "pygments_lexer": "ipython3",
   "version": "3.12.3"
  }
 },
 "nbformat": 4,
 "nbformat_minor": 5
}
