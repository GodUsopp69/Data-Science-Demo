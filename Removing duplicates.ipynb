{
 "cells": [
  {
   "cell_type": "code",
   "execution_count": 1,
   "id": "6acd61cf-ed11-49ad-b2eb-7be096d7b577",
   "metadata": {},
   "outputs": [],
   "source": [
    "import pandas as pd"
   ]
  },
  {
   "cell_type": "code",
   "execution_count": 2,
   "id": "fa0b671e-88fc-40eb-96ce-7fbbf2700844",
   "metadata": {},
   "outputs": [
    {
     "name": "stdout",
     "output_type": "stream",
     "text": [
      "   id first_name   last_name                        email  gender  \\\n",
      "0   1    Jilleen     Brugsma       jbrugsma0@japanpost.jp  Female   \n",
      "1   2     Andrus  Boughtwood  aboughtwood1@feedburner.com    Male   \n",
      "2   3    Pabitra     Banchod          gudmarani@gmail.com   gmail   \n",
      "3   3    Pabitra     Banchod          gudmarani@gmail.com   gmail   \n",
      "4   3    Pabitra     Banchod          gudmarani@gmail.com   gmail   \n",
      "5   3    Pabitra     Banchod          gudmarani@gmail.com   gmail   \n",
      "6   3    Pabitra     Banchod          gudmarani@gmail.com   gmail   \n",
      "\n",
      "        ip_address  \n",
      "0  148.179.230.124  \n",
      "1     2.204.83.218  \n",
      "2  145.451.545.454  \n",
      "3  145.451.545.454  \n",
      "4  145.451.545.454  \n",
      "5  145.451.545.454  \n",
      "6  145.451.545.454  \n"
     ]
    }
   ],
   "source": [
    "df = pd.read_csv(\"Duplicate.csv\")\n",
    "\n",
    "print (df)"
   ]
  },
  {
   "cell_type": "code",
   "execution_count": 3,
   "id": "7354e9f9-788d-47b4-a9a4-268839d1fd59",
   "metadata": {},
   "outputs": [
    {
     "data": {
      "text/html": [
       "<div>\n",
       "<style scoped>\n",
       "    .dataframe tbody tr th:only-of-type {\n",
       "        vertical-align: middle;\n",
       "    }\n",
       "\n",
       "    .dataframe tbody tr th {\n",
       "        vertical-align: top;\n",
       "    }\n",
       "\n",
       "    .dataframe thead th {\n",
       "        text-align: right;\n",
       "    }\n",
       "</style>\n",
       "<table border=\"1\" class=\"dataframe\">\n",
       "  <thead>\n",
       "    <tr style=\"text-align: right;\">\n",
       "      <th></th>\n",
       "      <th>id</th>\n",
       "      <th>first_name</th>\n",
       "      <th>last_name</th>\n",
       "      <th>email</th>\n",
       "      <th>gender</th>\n",
       "      <th>ip_address</th>\n",
       "    </tr>\n",
       "  </thead>\n",
       "  <tbody>\n",
       "    <tr>\n",
       "      <th>0</th>\n",
       "      <td>1</td>\n",
       "      <td>Jilleen</td>\n",
       "      <td>Brugsma</td>\n",
       "      <td>jbrugsma0@japanpost.jp</td>\n",
       "      <td>Female</td>\n",
       "      <td>148.179.230.124</td>\n",
       "    </tr>\n",
       "    <tr>\n",
       "      <th>1</th>\n",
       "      <td>2</td>\n",
       "      <td>Andrus</td>\n",
       "      <td>Boughtwood</td>\n",
       "      <td>aboughtwood1@feedburner.com</td>\n",
       "      <td>Male</td>\n",
       "      <td>2.204.83.218</td>\n",
       "    </tr>\n",
       "    <tr>\n",
       "      <th>2</th>\n",
       "      <td>3</td>\n",
       "      <td>Pabitra</td>\n",
       "      <td>Banchod</td>\n",
       "      <td>gudmarani@gmail.com</td>\n",
       "      <td>gmail</td>\n",
       "      <td>145.451.545.454</td>\n",
       "    </tr>\n",
       "  </tbody>\n",
       "</table>\n",
       "</div>"
      ],
      "text/plain": [
       "   id first_name   last_name                        email  gender  \\\n",
       "0   1    Jilleen     Brugsma       jbrugsma0@japanpost.jp  Female   \n",
       "1   2     Andrus  Boughtwood  aboughtwood1@feedburner.com    Male   \n",
       "2   3    Pabitra     Banchod          gudmarani@gmail.com   gmail   \n",
       "\n",
       "        ip_address  \n",
       "0  148.179.230.124  \n",
       "1     2.204.83.218  \n",
       "2  145.451.545.454  "
      ]
     },
     "execution_count": 3,
     "metadata": {},
     "output_type": "execute_result"
    }
   ],
   "source": [
    "df.drop_duplicates()"
   ]
  }
 ],
 "metadata": {
  "kernelspec": {
   "display_name": "Python 3 (ipykernel)",
   "language": "python",
   "name": "python3"
  },
  "language_info": {
   "codemirror_mode": {
    "name": "ipython",
    "version": 3
   },
   "file_extension": ".py",
   "mimetype": "text/x-python",
   "name": "python",
   "nbconvert_exporter": "python",
   "pygments_lexer": "ipython3",
   "version": "3.12.3"
  }
 },
 "nbformat": 4,
 "nbformat_minor": 5
}
