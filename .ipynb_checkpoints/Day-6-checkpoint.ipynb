{
 "cells": [
  {
   "cell_type": "code",
   "execution_count": 1,
   "id": "4e4443fa-ff53-4007-ad7e-d22bcbf513ec",
   "metadata": {},
   "outputs": [],
   "source": [
    "import numpy as np"
   ]
  },
  {
   "cell_type": "code",
   "execution_count": 6,
   "id": "7abc2180-e435-4f60-973d-7118da1e5045",
   "metadata": {},
   "outputs": [
    {
     "name": "stdout",
     "output_type": "stream",
     "text": [
      "(array([2, 3, 4, 5], dtype=int64),)\n"
     ]
    }
   ],
   "source": [
    "arr = np.array([1,2,3,4,5,6])\n",
    "inso= np.where(arr>2) #it shows index value\n",
    "print(inso)"
   ]
  },
  {
   "cell_type": "code",
   "execution_count": 9,
   "id": "24c47544-3632-4bf1-9de4-8b05593128ba",
   "metadata": {},
   "outputs": [
    {
     "name": "stdout",
     "output_type": "stream",
     "text": [
      "[[ 0  1  2]\n",
      " [ 3  4  5]\n",
      " [ 6  7  8]\n",
      " [ 9 10 11]\n",
      " [12 13 14]]\n"
     ]
    }
   ],
   "source": [
    "a= np.arange(15).reshape(5,3)\n",
    "print (a)"
   ]
  },
  {
   "cell_type": "code",
   "execution_count": 10,
   "id": "7d00c67f-8ef6-4382-b2c3-94580abfcb1c",
   "metadata": {},
   "outputs": [
    {
     "data": {
      "text/plain": [
       "(array([1, 1, 1, 2, 2, 2, 3, 3, 3, 4, 4, 4], dtype=int64),\n",
       " array([0, 1, 2, 0, 1, 2, 0, 1, 2, 0, 1, 2], dtype=int64))"
      ]
     },
     "execution_count": 10,
     "metadata": {},
     "output_type": "execute_result"
    }
   ],
   "source": [
    "np.where(a>2) #it also shows index value of array"
   ]
  },
  {
   "cell_type": "code",
   "execution_count": 11,
   "id": "fdd479bd-cb8c-4b16-9057-b848b91eda44",
   "metadata": {},
   "outputs": [],
   "source": [
    "a1 =np.array([1,2,4,5,6,85,5,7])"
   ]
  },
  {
   "cell_type": "code",
   "execution_count": 12,
   "id": "e07f46d2-5dad-4abb-bca6-c2e11249d69e",
   "metadata": {},
   "outputs": [
    {
     "data": {
      "text/plain": [
       "(array([2, 3, 4, 5, 6, 7], dtype=int64),)"
      ]
     },
     "execution_count": 12,
     "metadata": {},
     "output_type": "execute_result"
    }
   ],
   "source": [
    "np.where(a1>3) #it returns index "
   ]
  },
  {
   "cell_type": "code",
   "execution_count": 14,
   "id": "e2b3bf6a-1308-49ac-8c37-f7ba46edbdd0",
   "metadata": {},
   "outputs": [
    {
     "data": {
      "text/plain": [
       "array([ 4,  5,  6, 85,  5,  7])"
      ]
     },
     "execution_count": 14,
     "metadata": {},
     "output_type": "execute_result"
    }
   ],
   "source": [
    "a1[np.where(a1>3)] #it returns index value"
   ]
  },
  {
   "cell_type": "code",
   "execution_count": 16,
   "id": "5b146e4a-a294-423b-8eb8-b21bd5ff5d12",
   "metadata": {},
   "outputs": [
    {
     "name": "stdout",
     "output_type": "stream",
     "text": [
      "[ 1  2  6  8 10 12 14]\n"
     ]
    }
   ],
   "source": [
    "a2 = np.array([1,2,3,4,5,6,7])\n",
    "new_a2 = np.where(a2 > 2 , a2*2, a2)\n",
    "print (new_a2)"
   ]
  },
  {
   "cell_type": "code",
   "execution_count": 20,
   "id": "c9690918-e5c0-426a-8afd-7f9743f03e97",
   "metadata": {},
   "outputs": [
    {
     "data": {
      "text/plain": [
       "array([69, 96,  3,  4,  5,  6,  7])"
      ]
     },
     "execution_count": 20,
     "metadata": {},
     "output_type": "execute_result"
    }
   ],
   "source": [
    "a2 = np.array([1,2,3,4,5,6,7])\n",
    "np.put(a2 , [0,1], [69,96])\n",
    "a2 #for printing"
   ]
  },
  {
   "cell_type": "code",
   "execution_count": 25,
   "id": "3c95a8b9-6d36-46ee-9a4a-094cf7223733",
   "metadata": {},
   "outputs": [
    {
     "name": "stdout",
     "output_type": "stream",
     "text": [
      "before [1 2 3 4]\n",
      "before [4 5 6 7]\n",
      "after [4 5 6 7]\n",
      "after [4 5 6 7]\n"
     ]
    }
   ],
   "source": [
    "a3 = np.array([1,2,3,4])\n",
    "a4 = np.array([4,5,6,7])\n",
    "print(\"before\" ,a3)\n",
    "print(\"before\" ,a4)\n",
    "np.copyto(a3,a4)\n",
    "print(\"after\" ,a3)\n",
    "print(\"after\" ,a4)"
   ]
  },
  {
   "cell_type": "code",
   "execution_count": 26,
   "id": "a515bd43-c5ad-4f72-878a-c8716471aa0c",
   "metadata": {},
   "outputs": [
    {
     "data": {
      "text/plain": [
       "array([4, 5])"
      ]
     },
     "execution_count": 26,
     "metadata": {},
     "output_type": "execute_result"
    }
   ],
   "source": [
    "a5 = np.array([1,2,3,4,5])\n",
    "a6 = np.array([4,5,6,7,8])\n",
    "np.intersect1d(a5,a6)"
   ]
  },
  {
   "cell_type": "code",
   "execution_count": 27,
   "id": "de4810ab-6615-4b86-a4ea-536c49350f75",
   "metadata": {},
   "outputs": [
    {
     "data": {
      "text/plain": [
       "(array([4, 5]), array([3, 4], dtype=int64), array([0, 1], dtype=int64))"
      ]
     },
     "execution_count": 27,
     "metadata": {},
     "output_type": "execute_result"
    }
   ],
   "source": [
    "np.intersect1d(a5,a6, return_indices=True)"
   ]
  },
  {
   "cell_type": "code",
   "execution_count": 28,
   "id": "4ee508ca-2c68-4ceb-a621-efda29cd0e04",
   "metadata": {},
   "outputs": [
    {
     "data": {
      "text/plain": [
       "array([1, 2, 3])"
      ]
     },
     "execution_count": 28,
     "metadata": {},
     "output_type": "execute_result"
    }
   ],
   "source": [
    "a5 = np.array([1,2,3,4,5])\n",
    "a6 = np.array([4,5,6,7,8])\n",
    "np.setdiff1d(a5,a6)"
   ]
  },
  {
   "cell_type": "code",
   "execution_count": 29,
   "id": "e5972490-7210-4bc2-b609-9c431bebd6d1",
   "metadata": {},
   "outputs": [
    {
     "data": {
      "text/plain": [
       "array([1, 2, 3, 6, 7, 8])"
      ]
     },
     "execution_count": 29,
     "metadata": {},
     "output_type": "execute_result"
    }
   ],
   "source": [
    "a5 = np.array([1,2,3,4,5])\n",
    "a6 = np.array([4,5,6,7,8])\n",
    "np.setxor1d(a5,a6)"
   ]
  },
  {
   "cell_type": "code",
   "execution_count": 30,
   "id": "fe5cd541-792c-4fa0-a0c0-166ded5d9b17",
   "metadata": {},
   "outputs": [
    {
     "data": {
      "text/plain": [
       "array([1, 2, 3, 4, 5, 6, 7, 8])"
      ]
     },
     "execution_count": 30,
     "metadata": {},
     "output_type": "execute_result"
    }
   ],
   "source": [
    "a5 = np.array([1,2,3,4,5])\n",
    "a6 = np.array([4,5,6,7,8])\n",
    "np.union1d(a5,a6)"
   ]
  },
  {
   "cell_type": "code",
   "execution_count": 33,
   "id": "4a68e274-1307-4890-b1b9-f2623c9c7589",
   "metadata": {},
   "outputs": [
    {
     "data": {
      "text/plain": [
       "[array([[1, 2],\n",
       "        [4, 5]]),\n",
       " array([[3, 4],\n",
       "        [6, 7]])]"
      ]
     },
     "execution_count": 33,
     "metadata": {},
     "output_type": "execute_result"
    }
   ],
   "source": [
    "a7 = np.array([[1,2,3,4],[4,5,6,7]])\n",
    "np.hsplit(a7,2) #horizontal split"
   ]
  },
  {
   "cell_type": "code",
   "execution_count": 34,
   "id": "12b4406a-14ac-4c7a-a05a-48e323af7a6d",
   "metadata": {},
   "outputs": [
    {
     "data": {
      "text/plain": [
       "[array([[1, 2, 3, 4]]), array([[4, 5, 6, 7]])]"
      ]
     },
     "execution_count": 34,
     "metadata": {},
     "output_type": "execute_result"
    }
   ],
   "source": [
    "np.vsplit(a7,2) #vertical split"
   ]
  },
  {
   "cell_type": "code",
   "execution_count": 35,
   "id": "723f120a-15e6-4d3d-8963-f7a707c65d95",
   "metadata": {},
   "outputs": [
    {
     "name": "stdout",
     "output_type": "stream",
     "text": [
      "[[[1 2]\n",
      "  [5 6]]\n",
      "\n",
      " [[3 4]\n",
      "  [7 8]]]\n"
     ]
    }
   ],
   "source": [
    "arr1 = np.array([[1,2],[3,4]])\n",
    "arr2 = np.array([[5,6],[7,8]])\n",
    "stak = np.stack((arr1,arr2), axis =1)\n",
    "print(stak)"
   ]
  },
  {
   "cell_type": "code",
   "execution_count": 41,
   "id": "17a57d66-bf9b-45c5-b9bb-78bd162e32ee",
   "metadata": {},
   "outputs": [
    {
     "name": "stdout",
     "output_type": "stream",
     "text": [
      "[1 2 3 4 5 6 7 8]\n"
     ]
    }
   ],
   "source": [
    "arr1 = np.array([1,2,3,4])\n",
    "arr2 = np.array([5,6,7,8])\n",
    "stak = np.hstack((arr1,arr2)) #horizontal stack\n",
    "print(stak)"
   ]
  },
  {
   "cell_type": "code",
   "execution_count": 43,
   "id": "c1926e03-1eb0-4c34-a81a-9db4bb054d19",
   "metadata": {},
   "outputs": [
    {
     "name": "stdout",
     "output_type": "stream",
     "text": [
      "[[1 2 3 4]\n",
      " [5 6 7 8]]\n"
     ]
    }
   ],
   "source": [
    "arr1 = np.array([1,2,3,4])\n",
    "arr2 = np.array([5,6,7,8])\n",
    "stak = np.vstack((arr1,arr2)) #vertical stack\n",
    "print(stak)"
   ]
  },
  {
   "cell_type": "code",
   "execution_count": 37,
   "id": "86abd692-90b0-4bff-afb9-f6113c17580e",
   "metadata": {},
   "outputs": [
    {
     "name": "stdout",
     "output_type": "stream",
     "text": [
      "[[1 2]\n",
      " [3 4]\n",
      " [5 6]\n",
      " [7 8]]\n"
     ]
    }
   ],
   "source": [
    "arr1 = np.array([[1,2],[3,4]])\n",
    "arr2 = np.array([[5,6],[7,8]])\n",
    "stak = np.concatenate((arr1,arr2), axis =0)\n",
    "print(stak)"
   ]
  },
  {
   "cell_type": "code",
   "execution_count": null,
   "id": "18318835-4cb1-46bd-9b4e-07fd926b8467",
   "metadata": {},
   "outputs": [],
   "source": []
  }
 ],
 "metadata": {
  "kernelspec": {
   "display_name": "Python 3 (ipykernel)",
   "language": "python",
   "name": "python3"
  },
  "language_info": {
   "codemirror_mode": {
    "name": "ipython",
    "version": 3
   },
   "file_extension": ".py",
   "mimetype": "text/x-python",
   "name": "python",
   "nbconvert_exporter": "python",
   "pygments_lexer": "ipython3",
   "version": "3.12.3"
  }
 },
 "nbformat": 4,
 "nbformat_minor": 5
}
