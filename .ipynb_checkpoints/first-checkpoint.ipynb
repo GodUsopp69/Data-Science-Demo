{
 "cells": [
  {
   "cell_type": "code",
   "execution_count": 7,
   "id": "220155a9-93c2-4cd2-b8e7-646211da2a70",
   "metadata": {},
   "outputs": [],
   "source": [
    "import pandas as pd\n",
    "#importing pandas library and calling it as pd"
   ]
  },
  {
   "cell_type": "code",
   "execution_count": 13,
   "id": "2577c38c-6c65-44ea-abd8-e9747c656fc2",
   "metadata": {},
   "outputs": [
    {
     "name": "stdout",
     "output_type": "stream",
     "text": [
      "          apple  orange\n",
      "saklin        1      12\n",
      "pabitra       2      45\n",
      "aman          3      65\n",
      "sukalyan      4      89\n"
     ]
    },
    {
     "data": {
      "text/plain": [
       "apple      2\n",
       "orange    45\n",
       "Name: pabitra, dtype: int64"
      ]
     },
     "execution_count": 13,
     "metadata": {},
     "output_type": "execute_result"
    }
   ],
   "source": [
    "data = {'apple':[1,2,3,4], 'orange' :[12,45,65,89]} #making a dictionary\n",
    "\n",
    "newlg = pd.DataFrame(data,index =['saklin', 'pabitra', 'aman','sukalyan']) #creating a dataframe and fetching some dats\n",
    "\n",
    "print (newlg)\n",
    "newlg.loc['pabitra'] #accessing rows\n"
   ]
  },
  {
   "cell_type": "code",
   "execution_count": 12,
   "id": "a561ae0d-8dc4-42a8-919f-1aa4c5372212",
   "metadata": {},
   "outputs": [
    {
     "data": {
      "text/plain": [
       "apple      3\n",
       "orange    65\n",
       "Name: aman, dtype: int64"
      ]
     },
     "execution_count": 12,
     "metadata": {},
     "output_type": "execute_result"
    }
   ],
   "source": [
    "newlg.loc['aman']\n",
    "#accessing rows"
   ]
  },
  {
   "cell_type": "code",
   "execution_count": 15,
   "id": "4d4a28de-a8d7-465d-82db-87f154ba705b",
   "metadata": {},
   "outputs": [
    {
     "data": {
      "text/plain": [
       "saklin      12\n",
       "pabitra     45\n",
       "aman        65\n",
       "sukalyan    89\n",
       "Name: orange, dtype: int64"
      ]
     },
     "execution_count": 15,
     "metadata": {},
     "output_type": "execute_result"
    }
   ],
   "source": [
    "newlg['orange']\n",
    "#accessing columns"
   ]
  },
  {
   "cell_type": "code",
   "execution_count": null,
   "id": "e13b2b05-b758-4f6c-a3ea-0cc6027fea2a",
   "metadata": {},
   "outputs": [],
   "source": []
  }
 ],
 "metadata": {
  "kernelspec": {
   "display_name": "Python 3 (ipykernel)",
   "language": "python",
   "name": "python3"
  },
  "language_info": {
   "codemirror_mode": {
    "name": "ipython",
    "version": 3
   },
   "file_extension": ".py",
   "mimetype": "text/x-python",
   "name": "python",
   "nbconvert_exporter": "python",
   "pygments_lexer": "ipython3",
   "version": "3.12.3"
  }
 },
 "nbformat": 4,
 "nbformat_minor": 5
}
