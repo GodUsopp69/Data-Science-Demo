{
 "cells": [
  {
   "cell_type": "code",
   "execution_count": 2,
   "id": "218cb7c9-57d7-465b-8af5-501178a005fb",
   "metadata": {},
   "outputs": [],
   "source": [
    "import numpy as np"
   ]
  },
  {
   "cell_type": "code",
   "execution_count": 12,
   "id": "c1c0bf71-f329-433f-b456-8ed72f24f0b9",
   "metadata": {},
   "outputs": [
    {
     "name": "stdout",
     "output_type": "stream",
     "text": [
      "<class 'numpy.ndarray'>\n",
      "[1 2 3 4]\n"
     ]
    }
   ],
   "source": [
    "arr  = np.array([1,2,3,4])\n",
    "print(type(arr))  #end dimentional array\n",
    "print (arr)"
   ]
  },
  {
   "cell_type": "code",
   "execution_count": 11,
   "id": "24b93d70-590f-4e7a-9411-1283f564c72d",
   "metadata": {},
   "outputs": [
    {
     "name": "stdout",
     "output_type": "stream",
     "text": [
      "[[ 1  2  3  4]\n",
      " [ 7  8  9 74]]\n"
     ]
    }
   ],
   "source": [
    "mul_arr = np.array([[1,2,3,4],[7,8,9,74]])\n",
    "print(mul_arr)"
   ]
  }
 ],
 "metadata": {
  "kernelspec": {
   "display_name": "Python 3 (ipykernel)",
   "language": "python",
   "name": "python3"
  },
  "language_info": {
   "codemirror_mode": {
    "name": "ipython",
    "version": 3
   },
   "file_extension": ".py",
   "mimetype": "text/x-python",
   "name": "python",
   "nbconvert_exporter": "python",
   "pygments_lexer": "ipython3",
   "version": "3.12.3"
  }
 },
 "nbformat": 4,
 "nbformat_minor": 5
}
