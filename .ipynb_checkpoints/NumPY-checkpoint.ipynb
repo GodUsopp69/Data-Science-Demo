{
 "cells": [
  {
   "cell_type": "code",
   "execution_count": 1,
   "id": "218cb7c9-57d7-465b-8af5-501178a005fb",
   "metadata": {},
   "outputs": [],
   "source": [
    "import numpy as np"
   ]
  },
  {
   "cell_type": "code",
   "execution_count": 2,
   "id": "c1c0bf71-f329-433f-b456-8ed72f24f0b9",
   "metadata": {},
   "outputs": [
    {
     "name": "stdout",
     "output_type": "stream",
     "text": [
      "<class 'numpy.ndarray'>\n",
      "[1 2 3 4]\n"
     ]
    }
   ],
   "source": [
    "arr  = np.array([1,2,3,4])\n",
    "print(type(arr))  #end dimentional array\n",
    "print (arr)"
   ]
  },
  {
   "cell_type": "code",
   "execution_count": 3,
   "id": "24b93d70-590f-4e7a-9411-1283f564c72d",
   "metadata": {},
   "outputs": [
    {
     "name": "stdout",
     "output_type": "stream",
     "text": [
      "[[[ 1  2  3  4]\n",
      "  [ 7  8  9 74]]\n",
      "\n",
      " [[ 1  2  3  4]\n",
      "  [ 7  8  9 74]]]\n"
     ]
    }
   ],
   "source": [
    "mul_arr = np.array([[[1,2,3,4],[7,8,9,74]],[[1,2,3,4],[7,8,9,74]]])\n",
    "print(mul_arr)"
   ]
  },
  {
   "cell_type": "code",
   "execution_count": 4,
   "id": "bdf28a76-ed47-4d3c-946e-d7d495e6f07b",
   "metadata": {},
   "outputs": [
    {
     "name": "stdout",
     "output_type": "stream",
     "text": [
      "['1' '2' '3' '4' 'KO']\n"
     ]
    }
   ],
   "source": [
    "li = [1,2,3,4,\"KO\"]\n",
    "liarr = np.array(li)\n",
    "print(liarr)"
   ]
  },
  {
   "cell_type": "code",
   "execution_count": 5,
   "id": "4a219db4-22c6-4b2e-ac88-06f7f36acd24",
   "metadata": {},
   "outputs": [
    {
     "data": {
      "text/plain": [
       "array([5.        , 5.33333333, 5.66666667, 6.        , 6.33333333,\n",
       "       6.66666667, 7.        ])"
      ]
     },
     "execution_count": 5,
     "metadata": {},
     "output_type": "execute_result"
    }
   ],
   "source": [
    "np.linspace(5,7,7) #first one is upper-bound and 2nd one is lower bound and third one is how many you value needed"
   ]
  },
  {
   "cell_type": "code",
   "execution_count": 6,
   "id": "74b42f77-64c9-4fd3-9a97-dac3e82715ac",
   "metadata": {},
   "outputs": [
    {
     "data": {
      "text/plain": [
       "array([ 5,  7,  9, 11, 13, 15, 17, 19])"
      ]
     },
     "execution_count": 6,
     "metadata": {},
     "output_type": "execute_result"
    }
   ],
   "source": [
    "np.arange (5,20,2) #third one is the gap"
   ]
  },
  {
   "cell_type": "code",
   "execution_count": 7,
   "id": "9eb13715-a4ec-4258-968a-7557d50c4dc3",
   "metadata": {},
   "outputs": [
    {
     "data": {
      "text/plain": [
       "array([8.46237055, 8.05217389, 6.49419458, 6.62700954, 9.77711656])"
      ]
     },
     "execution_count": 7,
     "metadata": {},
     "output_type": "execute_result"
    }
   ],
   "source": [
    "np.random.uniform(5,10, size = 5)"
   ]
  },
  {
   "cell_type": "code",
   "execution_count": 8,
   "id": "d5b83537-1f1e-4848-8dbf-bb8fd40161bd",
   "metadata": {},
   "outputs": [
    {
     "data": {
      "text/plain": [
       "array([[9.387943  , 6.82184814, 9.12934546],\n",
       "       [6.22378954, 8.30287362, 5.21453672],\n",
       "       [6.3080619 , 5.04366236, 8.16995969],\n",
       "       [8.14134019, 8.66092191, 8.28163443],\n",
       "       [7.7254882 , 7.52266491, 7.8190995 ]])"
      ]
     },
     "execution_count": 8,
     "metadata": {},
     "output_type": "execute_result"
    }
   ],
   "source": [
    "np.random.uniform(5,10, size = (5,3))"
   ]
  },
  {
   "cell_type": "code",
   "execution_count": 9,
   "id": "dd9d0adc-b4d0-4a94-9766-64681c552095",
   "metadata": {},
   "outputs": [
    {
     "data": {
      "text/plain": [
       "array([3.20000000e+01, 1.41323458e+02, 6.24134991e+02, 2.75640359e+03,\n",
       "       1.21732652e+04, 5.37614979e+04, 2.37430024e+05, 1.04857600e+06])"
      ]
     },
     "execution_count": 9,
     "metadata": {},
     "output_type": "execute_result"
    }
   ],
   "source": [
    "np.logspace(5,20,8, base=2)"
   ]
  },
  {
   "cell_type": "code",
   "execution_count": 10,
   "id": "ba5e969a-0309-4322-b597-db268dd213a2",
   "metadata": {},
   "outputs": [
    {
     "data": {
      "text/plain": [
       "array([[0, 0, 0],\n",
       "       [0, 0, 0]])"
      ]
     },
     "execution_count": 10,
     "metadata": {},
     "output_type": "execute_result"
    }
   ],
   "source": [
    "np.zeros((2,3), dtype='int')"
   ]
  },
  {
   "cell_type": "code",
   "execution_count": 11,
   "id": "757a4095-f197-4a87-a652-0085ac0ead53",
   "metadata": {},
   "outputs": [
    {
     "data": {
      "text/plain": [
       "array([[1, 1, 1],\n",
       "       [1, 1, 1]])"
      ]
     },
     "execution_count": 11,
     "metadata": {},
     "output_type": "execute_result"
    }
   ],
   "source": [
    "np.ones((2,3), dtype='int')"
   ]
  },
  {
   "cell_type": "code",
   "execution_count": 12,
   "id": "5059a801-0e31-42d4-a58e-c79fe801116f",
   "metadata": {},
   "outputs": [
    {
     "data": {
      "text/plain": [
       "array([[3, 3, 3],\n",
       "       [3, 3, 3]])"
      ]
     },
     "execution_count": 12,
     "metadata": {},
     "output_type": "execute_result"
    }
   ],
   "source": [
    "np.full((2,3), fill_value=3)"
   ]
  },
  {
   "cell_type": "code",
   "execution_count": 13,
   "id": "d9211863-9dbc-49fe-a4d4-42aa18db8b8f",
   "metadata": {},
   "outputs": [
    {
     "data": {
      "text/plain": [
       "array([[1., 0., 0.],\n",
       "       [0., 1., 0.],\n",
       "       [0., 0., 1.]])"
      ]
     },
     "execution_count": 13,
     "metadata": {},
     "output_type": "execute_result"
    }
   ],
   "source": [
    "np.identity(3)"
   ]
  },
  {
   "cell_type": "code",
   "execution_count": 14,
   "id": "b9ecf380-7b6a-472d-afab-6586f3fa479a",
   "metadata": {},
   "outputs": [
    {
     "name": "stdout",
     "output_type": "stream",
     "text": [
      "[  1   2   2   3   4   5   6   6  96 -96]\n"
     ]
    }
   ],
   "source": [
    "lit = [1,2,2,3,4,5,6,6,96,-96]\n",
    "arr1 = np.array(lit)\n",
    "print(arr1)"
   ]
  },
  {
   "cell_type": "code",
   "execution_count": 15,
   "id": "298f47a4-12c3-45c4-bd81-b24a0aaa1165",
   "metadata": {},
   "outputs": [
    {
     "data": {
      "text/plain": [
       "-96"
      ]
     },
     "execution_count": 15,
     "metadata": {},
     "output_type": "execute_result"
    }
   ],
   "source": [
    "np.min(arr1)"
   ]
  },
  {
   "cell_type": "code",
   "execution_count": 16,
   "id": "9305d116-15be-4704-933d-b8fa6d18bf65",
   "metadata": {},
   "outputs": [
    {
     "data": {
      "text/plain": [
       "96"
      ]
     },
     "execution_count": 16,
     "metadata": {},
     "output_type": "execute_result"
    }
   ],
   "source": [
    "np.max(arr1)"
   ]
  },
  {
   "cell_type": "code",
   "execution_count": 17,
   "id": "5e2bc081-8c12-4b83-b16f-e40ebb7f7493",
   "metadata": {},
   "outputs": [
    {
     "data": {
      "text/plain": [
       "(array([-96,   1,   2,   3,   4,   5,   6,  96]),\n",
       " array([1, 1, 2, 1, 1, 1, 2, 1], dtype=int64))"
      ]
     },
     "execution_count": 17,
     "metadata": {},
     "output_type": "execute_result"
    }
   ],
   "source": [
    "np.unique(arr1, return_counts = True)"
   ]
  },
  {
   "cell_type": "code",
   "execution_count": 18,
   "id": "940f8655-a8c6-442f-80ed-adfa1bdfdf92",
   "metadata": {},
   "outputs": [
    {
     "data": {
      "text/plain": [
       "2"
      ]
     },
     "execution_count": 18,
     "metadata": {},
     "output_type": "execute_result"
    }
   ],
   "source": [
    "np.mean(arr1 , dtype='int')"
   ]
  },
  {
   "cell_type": "code",
   "execution_count": 19,
   "id": "91b312e2-9c6b-4b6f-b018-49cc7260dd0c",
   "metadata": {},
   "outputs": [
    {
     "data": {
      "text/plain": [
       "3.5"
      ]
     },
     "execution_count": 19,
     "metadata": {},
     "output_type": "execute_result"
    }
   ],
   "source": [
    "np.median(arr1)"
   ]
  },
  {
   "cell_type": "code",
   "execution_count": 20,
   "id": "e8055556-f487-470d-99ee-84c8f7a59b73",
   "metadata": {},
   "outputs": [
    {
     "data": {
      "text/plain": [
       "array([1, 1, 3, 2], dtype=int64)"
      ]
     },
     "execution_count": 20,
     "metadata": {},
     "output_type": "execute_result"
    }
   ],
   "source": [
    "list2 = [0.1,0.3,2.5,1.9]\n",
    "arr2 = np.array(list2)\n",
    "bins = np.array([0,1,2,3,4,5,6,7])\n",
    "np.digitize(arr2,bins)"
   ]
  },
  {
   "cell_type": "code",
   "execution_count": 21,
   "id": "44c1ce0e-75e3-4a06-af71-93747dd601e2",
   "metadata": {},
   "outputs": [
    {
     "name": "stdout",
     "output_type": "stream",
     "text": [
      "[[ 9  4  4]\n",
      " [ 6  4 13]\n",
      " [ 4 12  1]\n",
      " [12  9  2]]\n"
     ]
    }
   ],
   "source": [
    "df = np.random.randint(14,size =(4,3))\n",
    "print(df)"
   ]
  },
  {
   "cell_type": "code",
   "execution_count": 22,
   "id": "0efbe1fe-bfc3-4cc3-929a-63c42dca9b08",
   "metadata": {},
   "outputs": [
    {
     "data": {
      "text/plain": [
       "array([[ 9,  4,  4,  6],\n",
       "       [ 4, 13,  4, 12],\n",
       "       [ 1, 12,  9,  2]])"
      ]
     },
     "execution_count": 22,
     "metadata": {},
     "output_type": "execute_result"
    }
   ],
   "source": [
    "df.reshape(3,4)"
   ]
  },
  {
   "cell_type": "code",
   "execution_count": 23,
   "id": "30984493-7550-4fdf-95a6-e4739d0ef70b",
   "metadata": {},
   "outputs": [
    {
     "name": "stdout",
     "output_type": "stream",
     "text": [
      "[ 9  4  4  6  4 13  4 12  1 12  9  2]\n"
     ]
    }
   ],
   "source": [
    " cd =df.reshape(-1)\n",
    "print(cd)"
   ]
  },
  {
   "cell_type": "code",
   "execution_count": 24,
   "id": "7a88d255-e2b9-4cfc-b0b7-6912fe841c44",
   "metadata": {},
   "outputs": [
    {
     "data": {
      "text/plain": [
       "array([[ 9,  4,  4,  6,  4, 13,  4, 12,  1, 12,  9,  2]])"
      ]
     },
     "execution_count": 24,
     "metadata": {},
     "output_type": "execute_result"
    }
   ],
   "source": [
    "np.expand_dims(cd,axis=0)"
   ]
  },
  {
   "cell_type": "code",
   "execution_count": 25,
   "id": "bbd3553b-c73f-4353-8f3f-d5ebebc92278",
   "metadata": {},
   "outputs": [
    {
     "data": {
      "text/plain": [
       "array([[ 9],\n",
       "       [ 4],\n",
       "       [ 4],\n",
       "       [ 6],\n",
       "       [ 4],\n",
       "       [13],\n",
       "       [ 4],\n",
       "       [12],\n",
       "       [ 1],\n",
       "       [12],\n",
       "       [ 9],\n",
       "       [ 2]])"
      ]
     },
     "execution_count": 25,
     "metadata": {},
     "output_type": "execute_result"
    }
   ],
   "source": [
    "np.expand_dims(cd,axis=1)"
   ]
  },
  {
   "cell_type": "code",
   "execution_count": 26,
   "id": "d10e9a34-302a-402f-8022-c4f9cda1a66d",
   "metadata": {},
   "outputs": [],
   "source": [
    "mul_arr1 = np.array([[[1],[3]],[[8],[5]]])\n",
    "\n"
   ]
  },
  {
   "cell_type": "code",
   "execution_count": 27,
   "id": "a73af266-5882-452a-b23f-b3c84829ba45",
   "metadata": {},
   "outputs": [],
   "source": [
    "squeeze = np.squeeze(mul_arr1)"
   ]
  },
  {
   "cell_type": "code",
   "execution_count": 28,
   "id": "0a1e0057-b92b-415c-ad1f-a7db1aaa5f5a",
   "metadata": {},
   "outputs": [
    {
     "name": "stdout",
     "output_type": "stream",
     "text": [
      "[[1 3]\n",
      " [8 5]]\n"
     ]
    }
   ],
   "source": [
    "print (squeeze)"
   ]
  },
  {
   "cell_type": "code",
   "execution_count": 29,
   "id": "ce849b3f-64e9-4052-a96a-85e4303ccb96",
   "metadata": {},
   "outputs": [
    {
     "data": {
      "text/plain": [
       "8"
      ]
     },
     "execution_count": 29,
     "metadata": {},
     "output_type": "execute_result"
    }
   ],
   "source": [
    "np.argmax(arr1)"
   ]
  },
  {
   "cell_type": "code",
   "execution_count": 30,
   "id": "64ba7979-b1f4-47e0-ad4b-d44168916fac",
   "metadata": {},
   "outputs": [
    {
     "data": {
      "text/plain": [
       "9"
      ]
     },
     "execution_count": 30,
     "metadata": {},
     "output_type": "execute_result"
    }
   ],
   "source": [
    "np.argmin(arr1)"
   ]
  },
  {
   "cell_type": "code",
   "execution_count": 31,
   "id": "82acdeaa-40b3-4b7d-9fa2-a730eed2bb0a",
   "metadata": {},
   "outputs": [
    {
     "data": {
      "text/plain": [
       "array([ 1,  2,  2,  3,  4,  5,  6,  6, 96, 96])"
      ]
     },
     "execution_count": 31,
     "metadata": {},
     "output_type": "execute_result"
    }
   ],
   "source": [
    "np.abs(arr1)"
   ]
  },
  {
   "cell_type": "code",
   "execution_count": 32,
   "id": "6f811166-2acc-4d9e-ab94-d6fbec377f93",
   "metadata": {},
   "outputs": [
    {
     "name": "stdout",
     "output_type": "stream",
     "text": [
      "[[[1]\n",
      "  [3]]\n",
      "\n",
      " [[8]\n",
      "  [5]]]\n"
     ]
    }
   ],
   "source": [
    "sort = np.sort(mul_arr1)\n",
    "print(sort)"
   ]
  },
  {
   "cell_type": "code",
   "execution_count": 33,
   "id": "e36d40d5-4662-4aa7-b39f-27da0dcc965d",
   "metadata": {},
   "outputs": [
    {
     "data": {
      "text/plain": [
       "array([ 1,  2,  5,  9, 69])"
      ]
     },
     "execution_count": 33,
     "metadata": {},
     "output_type": "execute_result"
    }
   ],
   "source": [
    "arr7 = np.array([1,2,-5,9,-69])\n",
    "np.abs(arr7)"
   ]
  },
  {
   "cell_type": "code",
   "execution_count": 36,
   "id": "76f414fd-b87c-46ac-8a65-621d49dc12e1",
   "metadata": {},
   "outputs": [
    {
     "data": {
      "text/plain": [
       "array([1, 5, 2, 3, 6, 4, 9, 0, 0], dtype=int64)"
      ]
     },
     "execution_count": 36,
     "metadata": {},
     "output_type": "execute_result"
    }
   ],
   "source": [
    "list9 = [1,5,2,3,6,4,789,-9,-98-78]\n",
    "arr9 = np.array(list9)\n",
    "bins = np.array([1,2,3,4,5,6,7,8,9])\n",
    "np.digitize(arr9,bins)"
   ]
  },
  {
   "cell_type": "code",
   "execution_count": 37,
   "id": "f60fe562-c85e-4fd4-9ebd-50c4e4aeafad",
   "metadata": {},
   "outputs": [
    {
     "name": "stdout",
     "output_type": "stream",
     "text": [
      "[[0.83468247 0.19643553 0.94931542]\n",
      " [0.93461186 0.70665159 0.07326074]\n",
      " [0.15601751 0.54175775 0.65364276]\n",
      " [0.52286133 0.13400712 0.68454288]\n",
      " [0.36395531 0.43294987 0.7739834 ]]\n"
     ]
    }
   ],
   "source": [
    "tan = np.random.random(size=(5,3))\n",
    "print(tan)"
   ]
  },
  {
   "cell_type": "code",
   "execution_count": 43,
   "id": "86062155-014a-48b9-8160-fe0beb48dc64",
   "metadata": {},
   "outputs": [
    {
     "data": {
      "text/plain": [
       "array([[1., 0., 1.],\n",
       "       [1., 1., 0.],\n",
       "       [0., 1., 1.],\n",
       "       [1., 0., 1.],\n",
       "       [0., 0., 1.]])"
      ]
     },
     "execution_count": 43,
     "metadata": {},
     "output_type": "execute_result"
    }
   ],
   "source": [
    "np.round(tan)"
   ]
  },
  {
   "cell_type": "code",
   "execution_count": 42,
   "id": "f253401c-1ed1-40d9-a5a3-7d56abd69eb5",
   "metadata": {},
   "outputs": [
    {
     "data": {
      "text/plain": [
       "array([[0.8, 0.2, 0.9],\n",
       "       [0.9, 0.7, 0.1],\n",
       "       [0.2, 0.5, 0.7],\n",
       "       [0.5, 0.1, 0.7],\n",
       "       [0.4, 0.4, 0.8]])"
      ]
     },
     "execution_count": 42,
     "metadata": {},
     "output_type": "execute_result"
    }
   ],
   "source": [
    "np.round(tan,decimals=1) "
   ]
  },
  {
   "cell_type": "code",
   "execution_count": 44,
   "id": "b5e80c18-78cb-4ba8-9951-4b1e82a908ca",
   "metadata": {},
   "outputs": [
    {
     "data": {
      "text/plain": [
       "array([[0.835, 0.196, 0.949],\n",
       "       [0.935, 0.707, 0.073],\n",
       "       [0.156, 0.542, 0.654],\n",
       "       [0.523, 0.134, 0.685],\n",
       "       [0.364, 0.433, 0.774]])"
      ]
     },
     "execution_count": 44,
     "metadata": {},
     "output_type": "execute_result"
    }
   ],
   "source": [
    "np.round(tan,decimals=3)  #decimals is basically the how may number is coming after '.'"
   ]
  }
 ],
 "metadata": {
  "kernelspec": {
   "display_name": "Python 3 (ipykernel)",
   "language": "python",
   "name": "python3"
  },
  "language_info": {
   "codemirror_mode": {
    "name": "ipython",
    "version": 3
   },
   "file_extension": ".py",
   "mimetype": "text/x-python",
   "name": "python",
   "nbconvert_exporter": "python",
   "pygments_lexer": "ipython3",
   "version": "3.12.3"
  }
 },
 "nbformat": 4,
 "nbformat_minor": 5
}
